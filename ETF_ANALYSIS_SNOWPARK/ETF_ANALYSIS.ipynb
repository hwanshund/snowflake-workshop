{
 "metadata": {
  "kernelspec": {
   "display_name": "Streamlit Notebook",
   "name": "streamlit"
  },
  "lastEditStatus": {
   "notebookId": "gimjblu623womnxe6bd5",
   "authorId": "3103472059269",
   "authorName": "MJLEE",
   "authorEmail": "mj.lee@snowflake.com",
   "sessionId": "22e7585c-ba74-4244-ab1a-80bc47288885",
   "lastEditTime": 1758601431306
  }
 },
 "nbformat_minor": 5,
 "nbformat": 4,
 "cells": [
  {
   "cell_type": "code",
   "id": "3775908f-ca36-4846-8f38-5adca39217f2",
   "metadata": {
    "language": "python",
    "name": "cell1"
   },
   "source": "# Import python packages\nimport streamlit as st\nimport pandas as pd\nfrom snowflake.snowpark.functions import col, count, sum, avg, round\nimport plotly.express as px\n\n# We can also use Snowpark for our analyses!\nfrom snowflake.snowpark.context import get_active_session\nsession = get_active_session()\n",
   "execution_count": null,
   "outputs": []
  },
  {
   "cell_type": "code",
   "id": "af30a3f0-114c-498f-96ea-bfe42915cdd1",
   "metadata": {
    "language": "python",
    "name": "cell4"
   },
   "outputs": [],
   "source": "session.sql(\"use database demo\").collect()\nsession.sql(\"use schema magi_handson\").collect()\nsnowpark_df = session.table(\"market_info\")\nsnowpark_df.limit(10)",
   "execution_count": null
  },
  {
   "cell_type": "code",
   "id": "06206a34-d5ef-4435-b9d6-09e33949268c",
   "metadata": {
    "language": "python",
    "name": "cell5"
   },
   "outputs": [],
   "source": "snowpark_df.describe",
   "execution_count": null
  },
  {
   "cell_type": "code",
   "id": "2c381a9c-20f5-429a-ab63-a3e3cf1d3490",
   "metadata": {
    "language": "python",
    "name": "cell9"
   },
   "outputs": [],
   "source": "st.subheader(\"시가총액 상위 5개 ETF\")\ntop_5_snowpark = (snowpark_df\n        .with_column(\"MKCAP_TRILLION\", col(\"MKCAP\") / 1e12)\n        .order_by(col(\"MKCAP\").desc())\n        .limit(5)\n        .select(\"BASE_DT\", \"ITEM_NM_KOR\", \"MKCAP_TRILLION\", \"BASE_IDX_NM\")\n)\ntop_5_snowpark",
   "execution_count": null
  },
  {
   "cell_type": "code",
   "id": "ce788a0e-38bc-4e23-a348-632182328358",
   "metadata": {
    "language": "python",
    "name": "cell2"
   },
   "outputs": [],
   "source": "st.subheader(\"시가총액 분포\")\nfig_hist = px.histogram(snowpark_df, x='MKCAP', nbins=10, \n                       title='시가총액 분포',\n                       labels={'MKCAP': '시가총액 (원)', 'count': '빈도'})\nst.plotly_chart(fig_hist, use_container_width=True)",
   "execution_count": null
  },
  {
   "cell_type": "code",
   "id": "af07319f-7954-48ae-bc8f-6517acd95fb3",
   "metadata": {
    "language": "python",
    "name": "cell10"
   },
   "outputs": [],
   "source": "st.subheader(\"매수금액 상위 5개 ETF\")\ndf_with_calculations = (snowpark_df\n        .with_column(\"BUY_AMT_BILLION\", col(\"SUM_BUY_AMT\") / 1e8)\n        .with_column(\"SEL_AMT_BILLION\", col(\"SUM_SEL_AMT\") / 1e8)\n        .with_column(\"NET_FLOW\", col(\"SUM_BUY_AMT\") - col(\"SUM_SEL_AMT\"))\n        .with_column(\"NET_FLOW_BILLION\", col(\"NET_FLOW\") / 1e8)\n    )\n    \n# 매수금액 상위 5개 ETF\ntop_buy_snowpark = (df_with_calculations\n    .order_by(col(\"SUM_BUY_AMT\").desc())\n    .limit(5)\n    .select(\"BASE_DT\", \"ITEM_NM_KOR\", \"BUY_AMT_BILLION\")\n)\n\ntop_buy_snowpark",
   "execution_count": null
  },
  {
   "cell_type": "code",
   "id": "60c7a108-db9c-4808-ace1-d70db3f9b470",
   "metadata": {
    "language": "python",
    "name": "cell8"
   },
   "outputs": [],
   "source": "st.header(\"기준지수별 분석\")\n\nindex_summary = (snowpark_df\n    .group_by(\"BASE_IDX_NM\")\n    .agg(\n        count(col(\"MKCAP\")).alias(\"MKCAP_count\"),\n        sum(col(\"MKCAP\")).alias(\"MKCAP_sum\"),\n        avg(col(\"MKCAP\")).alias(\"MKCAP_mean\"),\n        sum(col(\"SUM_BUY_AMT\")).alias(\"BUY_sum\"),\n        avg(col(\"SUM_BUY_AMT\")).alias(\"BUY_mean\"),\n        sum(col(\"SUM_SEL_AMT\")).alias(\"SEL_sum\"),\n        avg(col(\"SUM_SEL_AMT\")).alias(\"SEL_mean\")\n    )\n    .select(\n        col(\"BASE_IDX_NM\"),\n        round(col(\"MKCAP_count\"), 2).alias(\"MKCAP_count\"),\n        round(col(\"MKCAP_sum\"), 2).alias(\"MKCAP_sum\"),\n        round(col(\"MKCAP_mean\"), 2).alias(\"MKCAP_mean\"),\n        round(col(\"BUY_sum\"), 2).alias(\"BUY_sum\"),\n        round(col(\"BUY_mean\"), 2).alias(\"BUY_mean\"),\n        round(col(\"SEL_sum\"), 2).alias(\"SEL_sum\"),\n        round(col(\"SEL_mean\"), 2).alias(\"SEL_mean\")\n    )\n)\n\nindex_summary",
   "execution_count": null
  }
 ]
}